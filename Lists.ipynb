{
  "nbformat": 4,
  "nbformat_minor": 0,
  "metadata": {
    "colab": {
      "provenance": [],
      "include_colab_link": true
    },
    "kernelspec": {
      "name": "python3",
      "display_name": "Python 3"
    },
    "language_info": {
      "name": "python"
    }
  },
  "cells": [
    {
      "cell_type": "markdown",
      "metadata": {
        "id": "view-in-github",
        "colab_type": "text"
      },
      "source": [
        "<a href=\"https://colab.research.google.com/github/enguyen013/lab3c/blob/main/Lists.ipynb\" target=\"_parent\"><img src=\"https://colab.research.google.com/assets/colab-badge.svg\" alt=\"Open In Colab\"/></a>"
      ]
    },
    {
      "cell_type": "markdown",
      "source": [
        "# Lists in Python\n",
        "A list is an ordered collection of elements, and each element can be of any data type, such as numbers, strings, Booleans, or even other lists. In Python, lists are mutable, meaning their contents can be changed. Lists are particularly useful when you want to handle a group of related values.\n",
        "\n",
        "## Objective\n",
        "- Comprehend the application of lists\n",
        "- Understand how a list uses memory\n",
        "- Apply various operations on a list\n",
        "\n",
        "## Prerequisite\n",
        "\n",
        "- Decision statements\n",
        "- Input functions\n",
        "- Python literals\n",
        "- Programming variables\n",
        "\n",
        "\n",
        "## What do you need to complete this exercise?\n",
        "\n",
        "You can perform this exercise in any Python IDE, including JupyterLab or Google Colab.\n"
      ],
      "metadata": {
        "id": "2ITy4ycVFXBq"
      }
    },
    {
      "cell_type": "markdown",
      "source": [
        "a) a. Using a range function, generate a list of 100 integers and assign the list to ```my_list```. Verify that the variable ```my_list``` data type is list. Use your favorite four methods and apply on the list. You can find the methods on [Python Docs](https://docs.python.org/3/tutorial/datastructures.html)"
      ],
      "metadata": {
        "id": "uQxH0KO0tsDc"
      }
    },
    {
      "cell_type": "code",
      "source": [
        "my_list = list(range(100))\n",
        "\n",
        "\n",
        "print(type(my_list) is list)\n",
        "\n",
        "\n",
        "my_list.append(100)\n",
        "\n",
        "\n",
        "my_list.reverse()\n",
        "\n",
        "\n",
        "my_list.remove(50)\n",
        "\n",
        "\n",
        "my_list.insert(0, 0)"
      ],
      "metadata": {
        "id": "rRTflD1C9mjt",
        "outputId": "3e904c43-fa29-4431-c6b0-bed10b5ca4ee",
        "colab": {
          "base_uri": "https://localhost:8080/"
        }
      },
      "execution_count": 2,
      "outputs": [
        {
          "output_type": "stream",
          "name": "stdout",
          "text": [
            "True\n"
          ]
        }
      ]
    },
    {
      "cell_type": "markdown",
      "source": [
        "b. Suppose that you have a list of 10 items long. How might you move the last three items from the end of the list to the beginning, keeping them in the same order?"
      ],
      "metadata": {
        "id": "0jkTuRdlA6sk"
      }
    },
    {
      "cell_type": "code",
      "source": [
        "my_list = [0, 1, 2, 3, 4, 5, 6, 7, 8, 9]\n",
        "my_list = my_list[-3:] + my_list[:-3]"
      ],
      "metadata": {
        "id": "8ZIVOfAMQt2Z"
      },
      "execution_count": 3,
      "outputs": []
    },
    {
      "cell_type": "markdown",
      "source": [
        "c. What would be the result of ```len([[1,2]] * 3)```? Try to do it without coding and then verify using Python."
      ],
      "metadata": {
        "id": "Wv1LOaouA_Gq"
      }
    },
    {
      "cell_type": "code",
      "source": [
        "result = [[1, 2]] * 3\n",
        "print(result)\n",
        "print(len(result))"
      ],
      "metadata": {
        "id": "cF0UyMIqQ8V3",
        "outputId": "9c159e6d-4922-416a-bd84-5e4a2b6e00b9",
        "colab": {
          "base_uri": "https://localhost:8080/"
        }
      },
      "execution_count": 4,
      "outputs": [
        {
          "output_type": "stream",
          "name": "stdout",
          "text": [
            "[[1, 2], [1, 2], [1, 2]]\n",
            "3\n"
          ]
        }
      ]
    },
    {
      "cell_type": "markdown",
      "source": [
        "d. Create a list ```my-list-ten``` of 10 items that includes some duplicate entries. Then, generate a second list ```my-list-ten-mem``` that contains the memory addresses of the items from the list ```my-list-ten```. Use Python to research and identify the unique and duplicate memory addresses."
      ],
      "metadata": {
        "id": "0IWZsl7LBGvD"
      }
    },
    {
      "cell_type": "code",
      "source": [
        "my_list_ten = [1, 2, 2, 3, 'a', 'a', 4, 5, 5, 6]\n",
        "\n",
        "\n",
        "my_list_ten_mem = [id(item) for item in my_list_ten]\n",
        "\n",
        "\n",
        "from collections import defaultdict\n",
        "address_counts = defaultdict(int)\n",
        "\n",
        "for addr in my_list_ten_mem:\n",
        "    address_counts[addr] += 1\n",
        "\n",
        "\n",
        "unique_addresses = [addr for addr, count in address_counts.items() if count == 1]\n",
        "duplicate_addresses = [addr for addr, count in address_counts.items() if count > 1]\n",
        "\n",
        "\n",
        "address_to_value = {id(item): item for item in my_list_ten}\n",
        "\n",
        "\n",
        "print(\"Original list:\", my_list_ten)\n",
        "print(\"Memory addresses:\", [hex(addr) for addr in my_list_ten_mem])\n",
        "\n",
        "print(\"\\nUnique addresses with values:\")\n",
        "for addr in unique_addresses:\n",
        "    print(f\"• {hex(addr)}: {address_to_value[addr]}\")\n",
        "\n",
        "print(\"\\nDuplicate addresses with values:\")\n",
        "for addr in duplicate_addresses:\n",
        "    print(f\"• {hex(addr)}: {address_to_value[addr]} (appears {address_counts[addr]} times)\")"
      ],
      "metadata": {
        "id": "S5kO371-Q_NL",
        "outputId": "e3fba84a-8d0f-46aa-af18-9bac570b9c55",
        "colab": {
          "base_uri": "https://localhost:8080/"
        }
      },
      "execution_count": 5,
      "outputs": [
        {
          "output_type": "stream",
          "name": "stdout",
          "text": [
            "Original list: [1, 2, 2, 3, 'a', 'a', 4, 5, 5, 6]\n",
            "Memory addresses: ['0xa40b88', '0xa40ba8', '0xa40ba8', '0xa40bc8', '0x959b40', '0x959b40', '0xa40be8', '0xa40c08', '0xa40c08', '0xa40c28']\n",
            "\n",
            "Unique addresses with values:\n",
            "• 0xa40b88: 1\n",
            "• 0xa40bc8: 3\n",
            "• 0xa40be8: 4\n",
            "• 0xa40c28: 6\n",
            "\n",
            "Duplicate addresses with values:\n",
            "• 0xa40ba8: 2 (appears 2 times)\n",
            "• 0x959b40: a (appears 2 times)\n",
            "• 0xa40c08: 5 (appears 2 times)\n"
          ]
        }
      ]
    },
    {
      "cell_type": "markdown",
      "source": [
        "e. Delete the list ```my-list-ten``` created in the above step."
      ],
      "metadata": {
        "id": "tJlIQIYjBPLX"
      }
    },
    {
      "cell_type": "code",
      "source": [
        "del my_list_ten\n",
        "\n",
        "# Verify deletion\n",
        "try:\n",
        "    print(my_list_ten)  # This will fail\n",
        "except NameError:\n",
        "    print(\"my_list_ten no longer exists\")"
      ],
      "metadata": {
        "id": "fQr5X9N0RceU",
        "outputId": "fa7c2307-b36f-4d0f-fb48-e27deca13571",
        "colab": {
          "base_uri": "https://localhost:8080/"
        }
      },
      "execution_count": 6,
      "outputs": [
        {
          "output_type": "stream",
          "name": "stdout",
          "text": [
            "my_list_ten no longer exists\n"
          ]
        }
      ]
    },
    {
      "cell_type": "markdown",
      "source": [
        "f. Create a new list ```my-new-list``` of the same 10 items used in ```my-list-ten```. Generate memory addresses of the items in ```my-new-list``` and compare them with the memory addresses in ```my-list-ten-mem```. Discuss what do you observe."
      ],
      "metadata": {
        "id": "jflVX2GHBT3-"
      }
    },
    {
      "cell_type": "code",
      "source": [
        "my_new_list = [1, 2, 2, 3, 'a', 'a', 4, 5, 5, 6]\n",
        "\n",
        "\n",
        "my_new_list_mem = [id(item) for item in my_new_list]\n",
        "\n",
        "\n",
        "original_mem = my_list_ten_mem\n",
        "\n",
        "\n",
        "for i, (old_addr, new_addr) in enumerate(zip(original_mem, my_new_list_mem)):\n",
        "    print(f\"Item {i}: {my_new_list[i]}\")\n",
        "    print(f\"Original: {hex(old_addr)}, New: {hex(new_addr)}\")\n",
        "    print(\"Match?\" , \"Yes\" if old_addr == new_addr else \"No\", \"\\n\")"
      ],
      "metadata": {
        "id": "QacofGe4RdZX",
        "outputId": "44631618-89af-4f6f-9010-84265ee38312",
        "colab": {
          "base_uri": "https://localhost:8080/"
        }
      },
      "execution_count": 7,
      "outputs": [
        {
          "output_type": "stream",
          "name": "stdout",
          "text": [
            "Item 0: 1\n",
            "Original: 0xa40b88, New: 0xa40b88\n",
            "Match? Yes \n",
            "\n",
            "Item 1: 2\n",
            "Original: 0xa40ba8, New: 0xa40ba8\n",
            "Match? Yes \n",
            "\n",
            "Item 2: 2\n",
            "Original: 0xa40ba8, New: 0xa40ba8\n",
            "Match? Yes \n",
            "\n",
            "Item 3: 3\n",
            "Original: 0xa40bc8, New: 0xa40bc8\n",
            "Match? Yes \n",
            "\n",
            "Item 4: a\n",
            "Original: 0x959b40, New: 0x959b40\n",
            "Match? Yes \n",
            "\n",
            "Item 5: a\n",
            "Original: 0x959b40, New: 0x959b40\n",
            "Match? Yes \n",
            "\n",
            "Item 6: 4\n",
            "Original: 0xa40be8, New: 0xa40be8\n",
            "Match? Yes \n",
            "\n",
            "Item 7: 5\n",
            "Original: 0xa40c08, New: 0xa40c08\n",
            "Match? Yes \n",
            "\n",
            "Item 8: 5\n",
            "Original: 0xa40c08, New: 0xa40c08\n",
            "Match? Yes \n",
            "\n",
            "Item 9: 6\n",
            "Original: 0xa40c28, New: 0xa40c28\n",
            "Match? Yes \n",
            "\n"
          ]
        }
      ]
    },
    {
      "cell_type": "markdown",
      "source": [
        "g. Suppose that you have the following list: ```x = [[1, 2, 3], [4, 5, 6], [7, 8, 9]]```. What code could you use to get a copy ```y``` of that list in which you could change the elements without the side effect of changing the contents of ```x```?"
      ],
      "metadata": {
        "id": "BRZq7VPZBYsN"
      }
    },
    {
      "cell_type": "code",
      "source": [
        "x = [[1, 2, 3], [4, 5, 6], [7, 8, 9]]\n",
        "y = [sublist.copy() for sublist in x]"
      ],
      "metadata": {
        "id": "5M7ksW8xsC3k"
      },
      "execution_count": 8,
      "outputs": []
    },
    {
      "cell_type": "markdown",
      "source": [
        "h. Is it possible to use multiple expressions within a list comprehension?"
      ],
      "metadata": {
        "id": "LUIwtfcJBnsq"
      }
    },
    {
      "cell_type": "code",
      "source": [
        "original = [1, 2, 3, 4]\n",
        "result = [(x, x**2) for x in original]\n",
        "print(result)\n",
        "\n",
        "numbers = [1, 2, 3, 4, 5]\n",
        "result = [x**2 if x % 2 == 0 else x**3 for x in numbers]\n",
        "print(result)\n",
        "\n",
        "matrix = [[1, 2], [3, 4], [5, 6]]\n",
        "flattened = [num for row in matrix for num in row]\n",
        "print(flattened)"
      ],
      "metadata": {
        "id": "7xxHmgPKBoSc",
        "outputId": "921057e6-13d6-4f64-b600-647d870051f2",
        "colab": {
          "base_uri": "https://localhost:8080/"
        }
      },
      "execution_count": 9,
      "outputs": [
        {
          "output_type": "stream",
          "name": "stdout",
          "text": [
            "[(1, 1), (2, 4), (3, 9), (4, 16)]\n",
            "[1, 4, 27, 16, 125]\n",
            "[1, 2, 3, 4, 5, 6]\n"
          ]
        }
      ]
    },
    {
      "cell_type": "markdown",
      "source": [
        "i. Using a list comprehension, count how many spaces are in the following statement.\n",
        "\"To be, or not to be, this is the question\""
      ],
      "metadata": {
        "id": "dV-_5n78BxH4"
      }
    },
    {
      "cell_type": "code",
      "source": [
        "statement = \"To be, or not to be, this is the question\"\n",
        "space_count = sum([1 for char in statement if char == ' '])\n",
        "print(space_count)"
      ],
      "metadata": {
        "id": "1C6WRbQ1I_up",
        "outputId": "200e09a7-8776-45b8-ee36-5919e282eaa4",
        "colab": {
          "base_uri": "https://localhost:8080/"
        }
      },
      "execution_count": 10,
      "outputs": [
        {
          "output_type": "stream",
          "name": "stdout",
          "text": [
            "9\n"
          ]
        }
      ]
    },
    {
      "cell_type": "markdown",
      "source": [
        "j. Choose any 5 lists operations of your choice from the link https://docs.python.org/3/tutorial/datastructures.html\n"
      ],
      "metadata": {
        "id": "QJQ3mnTyIz7c"
      }
    },
    {
      "cell_type": "code",
      "source": [
        "#list.append(x)\n",
        "fruits = [\"apple\", \"banana\"]\n",
        "fruits.append(\"cherry\")\n",
        "print(fruits)\n",
        "#list.extend(iterable)\n",
        "nums = [1, 2]\n",
        "nums.extend([3, 4])\n",
        "print(nums)\n",
        "#list.insert(i, x)\n",
        "letters = [\"a\", \"c\"]\n",
        "letters.insert(1, \"b\")\n",
        "print(letters)\n",
        "#list.remove(x)\n",
        "numbers = [10, 20, 30, 20]\n",
        "numbers.remove(20)\n",
        "print(numbers)\n",
        "#list.pop([i])\n",
        "colors = [\"red\", \"green\", \"blue\"]\n",
        "last_color = colors.pop()\n",
        "print(last_color)\n",
        "print(colors)\n",
        "\n",
        "second_color = colors.pop(1)\n",
        "print(second_color)"
      ],
      "metadata": {
        "id": "7JcT_W26B0Nu",
        "outputId": "24c0475d-0b51-4172-c47a-1b5cb90031f2",
        "colab": {
          "base_uri": "https://localhost:8080/"
        }
      },
      "execution_count": 14,
      "outputs": [
        {
          "output_type": "stream",
          "name": "stdout",
          "text": [
            "['apple', 'banana', 'cherry']\n",
            "[1, 2, 3, 4]\n",
            "['a', 'b', 'c']\n",
            "[10, 30, 20]\n",
            "blue\n",
            "['red', 'green']\n",
            "green\n"
          ]
        }
      ]
    },
    {
      "cell_type": "markdown",
      "source": [
        "## Challenges\n",
        "\n",
        "Please describe the challenges you faced during the exercise."
      ],
      "metadata": {
        "id": "xQzjxKdvvbyo"
      }
    },
    {
      "cell_type": "markdown",
      "source": [
        "Lists in Python are mutable, meaning their contents can change after creation. While this flexibility is powerful, it introduces complexity when handling operations like copying or modifying nested structures. For instance, when tasked with creating an independent copy of a list of lists (x = [[1,2,3], [4,5,6]]), a shallow copy like y = x.copy()) proved insufficient. Modifying y inadvertently altered x, as both lists shared references to the same inner lists. This behavior highlighted the distinction between shallow and deep copies. Resolving this required using copy.deepcopy(), which recursively clones all nested objects. This challenge emphasized the need to internalize mutability’s consequences, particularly when designing functions or algorithms that manipulate structured data."
      ],
      "metadata": {
        "id": "qfJNpTB5EbY4"
      }
    }
  ]
}